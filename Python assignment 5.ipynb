{
 "cells": [
  {
   "cell_type": "markdown",
   "id": "7ad0d115",
   "metadata": {},
   "source": [
    "## 1) What does an empty dictionary&#39;s code look like?\n"
   ]
  },
  {
   "cell_type": "markdown",
   "id": "879fd8cf",
   "metadata": {},
   "source": [
    "In Python, an empty dictionary's code looks like this:\n",
    "\n",
    "my_dict = {}\n",
    "\n",
    "Here, my_dict is the name of the variable that holds the dictionary object. By using curly braces {}, we create an empty dictionary. We can assign values to the dictionary later by adding key-value pairs."
   ]
  },
  {
   "cell_type": "markdown",
   "id": "5959bfc3",
   "metadata": {},
   "source": [
    "## 2) What is the value of a dictionary value with the key &#39;foo&#39; and the value 42?"
   ]
  },
  {
   "cell_type": "markdown",
   "id": "3f79eb54",
   "metadata": {},
   "source": [
    "We have a dictionary with the key 'foo' and the value 42. The value can be accessed by using the key as an index.\n",
    "\n",
    "my_dict = {'foo': 42}\n",
    "value = my_dict['foo']\n",
    "print(value)\n",
    "\n",
    "The output will be:\n",
    "42"
   ]
  },
  {
   "cell_type": "markdown",
   "id": "e2778a75",
   "metadata": {},
   "source": [
    "## 3) What is the most significant distinction between a dictionary and a list?"
   ]
  },
  {
   "cell_type": "markdown",
   "id": "c9fb19c3",
   "metadata": {},
   "source": [
    "The most significant distinction between a dictionary and a list in Python is their underlying data structure and how they store and access data.\n",
    "\n",
    "Structure:\n",
    "\n",
    "Dictionary: A dictionary is an unordered collection of key-value pairs. Each key in a dictionary is unique, and it is used to access its associated value.\n",
    "List: A list is an ordered collection of elements. The elements in a list are stored in a specific order, and each element is accessed by its position or index in the list.\n",
    "\n",
    "Accessing Elements:\n",
    "\n",
    "Dictionary: In a dictionary, elements are accessed by their keys. We can use a key to retrieve the associated value quickly. \n",
    "List: In a list, elements are accessed by their index. We can access elements in a list by providing the position or index of the element in the list. "
   ]
  },
  {
   "cell_type": "markdown",
   "id": "18dcd6f5",
   "metadata": {},
   "source": [
    "## 4) What happens if you try to access spam[&#39;foo&#39;] if spam is {&#39;bar&#39;: 100}?"
   ]
  },
  {
   "cell_type": "markdown",
   "id": "1f6e8358",
   "metadata": {},
   "source": [
    "If we try to access spam['foo'] and spam is { 'bar': 100 }, a KeyError will be raised. This error occurs because the key 'foo' does not exist in the dictionary spam."
   ]
  },
  {
   "cell_type": "markdown",
   "id": "c7123ffb",
   "metadata": {},
   "source": [
    "## 5) If a dictionary is stored in spam, what is the difference between the expressions 'cat' in spam and 'cat' in spam.keys()?"
   ]
  },
  {
   "cell_type": "markdown",
   "id": "fa16c1e2",
   "metadata": {},
   "source": [
    "The expressions 'cat' in spam and 'cat' in spam.keys() check for the presence of the key 'cat' in the dictionary spam, but there is a slight difference in their behavior:\n",
    "\n",
    "'cat' in spam: This expression checks if the key 'cat' exists in the dictionary spam. It returns True if the key is present in spam, and False otherwise. This check directly operates on the dictionary itself.\n",
    "\n",
    "'cat' in spam.keys(): This expression retrieves all the keys from the dictionary spam using the keys() method and then checks if the key 'cat' is present among those keys. It returns True if 'cat' is a key in spam, and False otherwise. This check involves retrieving all the keys from the dictionary before performing the membership test.\n",
    "\n",
    "In terms of functionality, both expressions serve the same purpose of checking for the existence of a key in a dictionary. However, the second expression, 'cat' in spam.keys(), involves an additional step of extracting all the keys from the dictionary using the keys() method, which may be slightly less efficient compared to the first expression, 'cat' in spam."
   ]
  },
  {
   "cell_type": "markdown",
   "id": "be766863",
   "metadata": {},
   "source": [
    "## 6) If a dictionary is stored in spam, what is the difference between the expressions 'cat' in spam and 'cat' in spam.values()?"
   ]
  },
  {
   "cell_type": "markdown",
   "id": "6c35f677",
   "metadata": {},
   "source": [
    "The expressions 'cat' in spam and 'cat' in spam.values() have different meanings and behaviors:\n",
    "\n",
    "'cat' in spam: This expression checks if the key 'cat' exists in the keys of the dictionary spam. It returns True if 'cat' is a key in spam, and False otherwise. It directly checks for the presence of the key in the dictionary.\n",
    "\n",
    "'cat' in spam.values(): This expression checks if the value 'cat' exists in the values of the dictionary spam. It returns True if 'cat' is a value associated with any key in spam, and False otherwise. It performs a search through all the values of the dictionary to determine the presence of 'cat'.\n",
    "\n",
    "In summary, 'cat' in spam checks for the existence of the key 'cat' in the dictionary spam, while 'cat' in spam.values() checks for the existence of the value 'cat' in the dictionary spam. The first expression focuses on keys, and the second expression focuses on values."
   ]
  },
  {
   "cell_type": "markdown",
   "id": "48a0d214",
   "metadata": {},
   "source": [
    "## 7) What is a shortcut for the following code?\n",
    "## if 'color' not in spam:\n",
    "## spam['color'] = 'black'"
   ]
  },
  {
   "cell_type": "markdown",
   "id": "f3400b59",
   "metadata": {},
   "source": [
    "A shortcut for the given code is to use the dict.get() method with a default value:\n",
    "\n",
    "spam.setdefault('color', 'black')\n",
    "\n",
    "The setdefault() method checks if the key 'color' exists in the dictionary spam. If the key is present, it returns the corresponding value. If the key is not found, it adds the key-value pair 'color': 'black' to the dictionary and returns the default value 'black'."
   ]
  },
  {
   "cell_type": "markdown",
   "id": "9338d9d4",
   "metadata": {},
   "source": [
    "## 8) How do you \"pretty print\" dictionary values using which module and function?"
   ]
  },
  {
   "cell_type": "markdown",
   "id": "9729a0ba",
   "metadata": {},
   "source": [
    "To \"pretty print\" dictionary values in a formatted and readable manner, we can use the pprint module in Python, specifically the pprint() function.\n",
    "\n",
    "Here's an example of how to use pprint to pretty print a dictionary:\n",
    "\n",
    "import pprint\n",
    "my_dict = {'key1': 'value1', 'key2': 'value2', 'key3': 'value3'}\n",
    "pprint.pprint(my_dict)\n",
    "\n",
    "The pprint.pprint() function takes a dictionary (or any other Python object) as input and prints it in a visually pleasing and structured way. It automatically formats the output to improve readability, especially when dealing with large dictionaries or complex nested structures."
   ]
  }
 ],
 "metadata": {
  "kernelspec": {
   "display_name": "Python 3 (ipykernel)",
   "language": "python",
   "name": "python3"
  },
  "language_info": {
   "codemirror_mode": {
    "name": "ipython",
    "version": 3
   },
   "file_extension": ".py",
   "mimetype": "text/x-python",
   "name": "python",
   "nbconvert_exporter": "python",
   "pygments_lexer": "ipython3",
   "version": "3.9.13"
  }
 },
 "nbformat": 4,
 "nbformat_minor": 5
}
